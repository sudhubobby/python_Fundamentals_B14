{
 "cells": [
  {
   "cell_type": "code",
   "execution_count": null,
   "metadata": {},
   "outputs": [],
   "source": [
    "Use get() to access values:"
   ]
  },
  {
   "cell_type": "code",
   "execution_count": 1,
   "metadata": {},
   "outputs": [
    {
     "name": "stdout",
     "output_type": "stream",
     "text": [
      "{'color': 'green', 'speed': 'slow'}\n"
     ]
    }
   ],
   "source": [
    "alien_0 ={'color':'green','speed':'slow'}\n",
    "print(alien_0)"
   ]
  },
  {
   "cell_type": "code",
   "execution_count": 2,
   "metadata": {},
   "outputs": [
    {
     "ename": "KeyError",
     "evalue": "'points'",
     "output_type": "error",
     "traceback": [
      "\u001b[1;31m---------------------------------------------------------------------------\u001b[0m",
      "\u001b[1;31mKeyError\u001b[0m                                  Traceback (most recent call last)",
      "\u001b[1;32m<ipython-input-2-f1f50dde710a>\u001b[0m in \u001b[0;36m<module>\u001b[1;34m\u001b[0m\n\u001b[1;32m----> 1\u001b[1;33m \u001b[0mprint\u001b[0m\u001b[1;33m(\u001b[0m\u001b[0malien_0\u001b[0m\u001b[1;33m[\u001b[0m\u001b[1;34m'points'\u001b[0m\u001b[1;33m]\u001b[0m\u001b[1;33m)\u001b[0m\u001b[1;33m\u001b[0m\u001b[1;33m\u001b[0m\u001b[0m\n\u001b[0m",
      "\u001b[1;31mKeyError\u001b[0m: 'points'"
     ]
    }
   ],
   "source": [
    "print(alien_0['points'])"
   ]
  },
  {
   "cell_type": "code",
   "execution_count": 3,
   "metadata": {},
   "outputs": [
    {
     "name": "stdout",
     "output_type": "stream",
     "text": [
      "No points value assigned\n"
     ]
    }
   ],
   "source": [
    "point_value = alien_0.get('points', 'No points value assigned')\n",
    "print(point_value)"
   ]
  },
  {
   "cell_type": "code",
   "execution_count": null,
   "metadata": {},
   "outputs": [],
   "source": [
    "Looping through dictionaries:"
   ]
  },
  {
   "cell_type": "code",
   "execution_count": 8,
   "metadata": {},
   "outputs": [
    {
     "name": "stdout",
     "output_type": "stream",
     "text": [
      "\n",
      "Key: username\n",
      "\n",
      "Value: fayaz95\n",
      "\n",
      "Key: first\n",
      "\n",
      "Value: shaik\n",
      "\n",
      "Key: last\n",
      "\n",
      "Value: faiyaz\n"
     ]
    }
   ],
   "source": [
    "user_0 = {\n",
    "    'username':'fayaz95',\n",
    "    'first':'shaik',\n",
    "    'last':'faiyaz'\n",
    "}\n",
    "for key, value in user_0.items():  #for tempvar1, tempvar2 in mainvar.items():\n",
    "    print(f\"\\nKey: {key}\")          #\\n ---> new line characters key {}\n",
    "    print(f\"\\nValue: {value}\")"
   ]
  },
  {
   "cell_type": "code",
   "execution_count": 10,
   "metadata": {},
   "outputs": [
    {
     "name": "stdout",
     "output_type": "stream",
     "text": [
      "\n",
      "Key:username\n",
      "Value:fayaz95\n",
      "\n",
      "Key:first\n",
      "Value:shaik\n",
      "\n",
      "Key:last\n",
      "Value:faiyaz\n"
     ]
    }
   ],
   "source": [
    "for x, y in user_0.items():\n",
    "    print(f\"\\nKey:{x}\")\n",
    "    print(f\"Value:{y}\")"
   ]
  },
  {
   "cell_type": "code",
   "execution_count": 14,
   "metadata": {},
   "outputs": [
    {
     "name": "stdout",
     "output_type": "stream",
     "text": [
      "Neha's') favourite language is Python\n",
      "Sudhakar's') favourite language is C\n",
      "Niteen's') favourite language is Ruby\n",
      "Srikanth's') favourite language is Python\n",
      "Ram's') favourite language is C++\n",
      "Zaheer's') favourite language is Python\n"
     ]
    }
   ],
   "source": [
    "favourite_languages = {\n",
    "    'neha':'python',\n",
    "    'sudhakar':'c',\n",
    "    'niteen':'ruby',\n",
    "    'Srikanth':'python',\n",
    "    'ram':'c++',\n",
    "    'Zaheer':'python'\n",
    "}\n",
    "for name, lang in favourite_languages.items():\n",
    "    print(f\"{name.title()}'s') favourite language is {lang.title()}\")"
   ]
  },
  {
   "cell_type": "code",
   "execution_count": 15,
   "metadata": {},
   "outputs": [
    {
     "name": "stdout",
     "output_type": "stream",
     "text": [
      "Neha\n",
      "Sudhakar\n",
      "Niteen\n",
      "Srikanth\n",
      "Ram\n",
      "Zaheer\n"
     ]
    }
   ],
   "source": [
    "for name in favourite_languages.keys():\n",
    "    print(name.title())"
   ]
  },
  {
   "cell_type": "code",
   "execution_count": 16,
   "metadata": {},
   "outputs": [
    {
     "name": "stdout",
     "output_type": "stream",
     "text": [
      "Neha\n",
      "Sudhakar\n",
      "Niteen\n",
      "Srikanth\n",
      "Ram\n",
      "Zaheer\n"
     ]
    }
   ],
   "source": [
    "for lang in favourite_languages.keys():\n",
    "    print(lang.title())"
   ]
  },
  {
   "cell_type": "code",
   "execution_count": 20,
   "metadata": {},
   "outputs": [
    {
     "ename": "SyntaxError",
     "evalue": "invalid syntax (<ipython-input-20-2bf5743fa85a>, line 1)",
     "output_type": "error",
     "traceback": [
      "\u001b[1;36m  File \u001b[1;32m\"<ipython-input-20-2bf5743fa85a>\"\u001b[1;36m, line \u001b[1;32m1\u001b[0m\n\u001b[1;33m    for name in sorted(favourite_languages.keys())\u001b[0m\n\u001b[1;37m                                                  ^\u001b[0m\n\u001b[1;31mSyntaxError\u001b[0m\u001b[1;31m:\u001b[0m invalid syntax\n"
     ]
    }
   ],
   "source": [
    "for name in sorted(favourite_languages.keys())\n",
    "    print(name.title())"
   ]
  },
  {
   "cell_type": "code",
   "execution_count": null,
   "metadata": {},
   "outputs": [],
   "source": [
    "???"
   ]
  },
  {
   "cell_type": "code",
   "execution_count": null,
   "metadata": {},
   "outputs": [],
   "source": []
  }
 ],
 "metadata": {
  "kernelspec": {
   "display_name": "Python 3",
   "language": "python",
   "name": "python3"
  },
  "language_info": {
   "codemirror_mode": {
    "name": "ipython",
    "version": 3
   },
   "file_extension": ".py",
   "mimetype": "text/x-python",
   "name": "python",
   "nbconvert_exporter": "python",
   "pygments_lexer": "ipython3",
   "version": "3.7.6"
  }
 },
 "nbformat": 4,
 "nbformat_minor": 4
}
